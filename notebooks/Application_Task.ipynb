{
 "cells": [
  {
   "cell_type": "markdown",
   "id": "c7a1265c",
   "metadata": {},
   "source": [
    "# Task for application as data scientist at Starmind"
   ]
  },
  {
   "cell_type": "markdown",
   "id": "structured-vintage",
   "metadata": {},
   "source": [
    "### Import libraries"
   ]
  },
  {
   "cell_type": "code",
   "execution_count": 1,
   "id": "aaf96832",
   "metadata": {},
   "outputs": [],
   "source": [
    "from Levenshtein import distance\n",
    "import csv"
   ]
  },
  {
   "cell_type": "markdown",
   "id": "stainless-decision",
   "metadata": {},
   "source": [
    "### Load data"
   ]
  },
  {
   "cell_type": "code",
   "execution_count": 5,
   "id": "935f294d",
   "metadata": {},
   "outputs": [],
   "source": [
    "path = \"../input/\"\n",
    "filename = \"20210103_hundenamen.csv\"\n",
    "file = path + filename\n",
    "\n",
    "names = []\n",
    "with open(file, newline='') as f:\n",
    "    data = csv.reader(f, delimiter=',', quotechar='\"')\n",
    "    names = [row[0] for row in data]"
   ]
  },
  {
   "cell_type": "markdown",
   "id": "exotic-elder",
   "metadata": {},
   "source": [
    "### Clean data"
   ]
  },
  {
   "cell_type": "code",
   "execution_count": 14,
   "id": "color-essence",
   "metadata": {},
   "outputs": [],
   "source": [
    "clean_names = []\n",
    "\n",
    "for name in names[1 :len(names)]:\n",
    "    if '\"' in name:\n",
    "        clean_names.append(name.split('\"')[1])\n",
    "    else:\n",
    "        clean_names.append(name)"
   ]
  },
  {
   "cell_type": "markdown",
   "id": "warming-leave",
   "metadata": {},
   "source": [
    "### Compute distance and save unique values"
   ]
  },
  {
   "cell_type": "code",
   "execution_count": 25,
   "id": "electronic-chocolate",
   "metadata": {},
   "outputs": [],
   "source": [
    "final_names = {item : 0 for item in clean_names if distance(\"Luca\", item) == 1}"
   ]
  },
  {
   "cell_type": "markdown",
   "id": "worst-armor",
   "metadata": {},
   "source": [
    "### Print results"
   ]
  },
  {
   "cell_type": "code",
   "execution_count": 29,
   "id": "boolean-attraction",
   "metadata": {},
   "outputs": [
    {
     "name": "stdout",
     "output_type": "stream",
     "text": [
      "Cuca ,Lua ,Luba ,Lucas ,Luce ,Lucia ,Lucy ,Lula ,Luma ,Luna ,Lupa ,Yuca ,"
     ]
    }
   ],
   "source": [
    "for key in final_names:\n",
    "    print(key, \",\", end=\"\")"
   ]
  },
  {
   "cell_type": "code",
   "execution_count": null,
   "id": "welcome-ability",
   "metadata": {},
   "outputs": [],
   "source": []
  }
 ],
 "metadata": {
  "kernelspec": {
   "display_name": "Python 3",
   "language": "python",
   "name": "python3"
  },
  "language_info": {
   "codemirror_mode": {
    "name": "ipython",
    "version": 3
   },
   "file_extension": ".py",
   "mimetype": "text/x-python",
   "name": "python",
   "nbconvert_exporter": "python",
   "pygments_lexer": "ipython3",
   "version": "3.8.8"
  },
  "toc": {
   "base_numbering": 1,
   "nav_menu": {},
   "number_sections": true,
   "sideBar": true,
   "skip_h1_title": true,
   "title_cell": "Table of Contents",
   "title_sidebar": "Contents",
   "toc_cell": false,
   "toc_position": {},
   "toc_section_display": true,
   "toc_window_display": false
  }
 },
 "nbformat": 4,
 "nbformat_minor": 5
}
